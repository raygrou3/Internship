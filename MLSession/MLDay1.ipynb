{
 "cells": [
  {
   "cell_type": "code",
   "execution_count": 1,
   "id": "633ac77d",
   "metadata": {},
   "outputs": [],
   "source": [
    "#turbogears"
   ]
  },
  {
   "cell_type": "code",
   "execution_count": 2,
   "id": "cdda6416",
   "metadata": {},
   "outputs": [],
   "source": [
    "a=12"
   ]
  },
  {
   "cell_type": "code",
   "execution_count": 3,
   "id": "1399995a",
   "metadata": {},
   "outputs": [
    {
     "data": {
      "text/plain": [
       "int"
      ]
     },
     "execution_count": 3,
     "metadata": {},
     "output_type": "execute_result"
    }
   ],
   "source": [
    "type(a)"
   ]
  },
  {
   "cell_type": "code",
   "execution_count": 4,
   "id": "e8efd985",
   "metadata": {},
   "outputs": [],
   "source": [
    "#int,float,complex\n",
    "#str\n",
    "#list, tuple\n",
    "#dictionary\n",
    "#set: collection of unique elements"
   ]
  },
  {
   "cell_type": "code",
   "execution_count": 5,
   "id": "6312a9ae",
   "metadata": {},
   "outputs": [],
   "source": [
    "n=3+7j"
   ]
  },
  {
   "cell_type": "code",
   "execution_count": 6,
   "id": "c2f818a1",
   "metadata": {},
   "outputs": [
    {
     "data": {
      "text/plain": [
       "complex"
      ]
     },
     "execution_count": 6,
     "metadata": {},
     "output_type": "execute_result"
    }
   ],
   "source": [
    "type(n)"
   ]
  },
  {
   "cell_type": "code",
   "execution_count": 7,
   "id": "4ca6b771",
   "metadata": {},
   "outputs": [],
   "source": [
    "s=\"QWERTY\""
   ]
  },
  {
   "cell_type": "code",
   "execution_count": 16,
   "id": "07d68160",
   "metadata": {},
   "outputs": [
    {
     "name": "stdout",
     "output_type": "stream",
     "text": [
      "T Y ER\n"
     ]
    }
   ],
   "source": [
    "print(s[4]+' '+s[5]+' '+s[2:4])"
   ]
  },
  {
   "cell_type": "code",
   "execution_count": 19,
   "id": "626d2ffa",
   "metadata": {},
   "outputs": [
    {
     "data": {
      "text/plain": [
       "1"
      ]
     },
     "execution_count": 19,
     "metadata": {},
     "output_type": "execute_result"
    }
   ],
   "source": [
    "s.count('Q')"
   ]
  },
  {
   "cell_type": "code",
   "execution_count": 21,
   "id": "541d6e82",
   "metadata": {},
   "outputs": [
    {
     "data": {
      "text/plain": [
       "3"
      ]
     },
     "execution_count": 21,
     "metadata": {},
     "output_type": "execute_result"
    }
   ],
   "source": [
    "s='qwerqwerq'\n",
    "s.count('q')"
   ]
  },
  {
   "cell_type": "code",
   "execution_count": 25,
   "id": "4189b6ee",
   "metadata": {},
   "outputs": [
    {
     "data": {
      "text/plain": [
       "'QWERQWERQ'"
      ]
     },
     "execution_count": 25,
     "metadata": {},
     "output_type": "execute_result"
    }
   ],
   "source": [
    "s.upper()"
   ]
  },
  {
   "cell_type": "code",
   "execution_count": 23,
   "id": "8238b0c4",
   "metadata": {},
   "outputs": [
    {
     "data": {
      "text/plain": [
       "'qwerqwerq'"
      ]
     },
     "execution_count": 23,
     "metadata": {},
     "output_type": "execute_result"
    }
   ],
   "source": [
    "s"
   ]
  },
  {
   "cell_type": "code",
   "execution_count": 26,
   "id": "c4910789",
   "metadata": {},
   "outputs": [],
   "source": [
    "l1=[12,34.6,\"qwerty\",89]"
   ]
  },
  {
   "cell_type": "code",
   "execution_count": 27,
   "id": "0a63bae5",
   "metadata": {},
   "outputs": [
    {
     "data": {
      "text/plain": [
       "list"
      ]
     },
     "execution_count": 27,
     "metadata": {},
     "output_type": "execute_result"
    }
   ],
   "source": [
    "type(l1)"
   ]
  },
  {
   "cell_type": "code",
   "execution_count": 31,
   "id": "432c6f64",
   "metadata": {},
   "outputs": [],
   "source": [
    "l1.append(100)"
   ]
  },
  {
   "cell_type": "code",
   "execution_count": 33,
   "id": "3c78fec5",
   "metadata": {},
   "outputs": [],
   "source": [
    "l1.append([1,2,3,4])"
   ]
  },
  {
   "cell_type": "markdown",
   "id": "9dff0ee1",
   "metadata": {},
   "source": [
    "\n"
   ]
  },
  {
   "cell_type": "code",
   "execution_count": 35,
   "id": "d027badf",
   "metadata": {
    "scrolled": true
   },
   "outputs": [
    {
     "data": {
      "text/plain": [
       "[12, 34.6, 'qwerty', 89, 100, [1, 2, 3, 4]]"
      ]
     },
     "execution_count": 35,
     "metadata": {},
     "output_type": "execute_result"
    }
   ],
   "source": [
    "l1"
   ]
  },
  {
   "cell_type": "code",
   "execution_count": 36,
   "id": "ad680543",
   "metadata": {},
   "outputs": [
    {
     "data": {
      "text/plain": [
       "1"
      ]
     },
     "execution_count": 36,
     "metadata": {},
     "output_type": "execute_result"
    }
   ],
   "source": [
    "l1.count(12)"
   ]
  },
  {
   "cell_type": "code",
   "execution_count": 37,
   "id": "55ddadde",
   "metadata": {},
   "outputs": [],
   "source": [
    "l1.extend([1,2,3])"
   ]
  },
  {
   "cell_type": "code",
   "execution_count": 38,
   "id": "46b0ca11",
   "metadata": {},
   "outputs": [
    {
     "data": {
      "text/plain": [
       "[12, 34.6, 'qwerty', 89, 100, [1, 2, 3, 4], 1, 2, 3]"
      ]
     },
     "execution_count": 38,
     "metadata": {},
     "output_type": "execute_result"
    }
   ],
   "source": [
    "l1"
   ]
  },
  {
   "cell_type": "code",
   "execution_count": 42,
   "id": "737fdfbb",
   "metadata": {},
   "outputs": [
    {
     "name": "stdout",
     "output_type": "stream",
     "text": [
      "hello[12, 34.6, 'qwerty', 89, 100, [1, 2, 3, 4], 1, 2, 3]\n"
     ]
    }
   ],
   "source": [
    "print(f\"hello{l1}\")"
   ]
  },
  {
   "cell_type": "code",
   "execution_count": 43,
   "id": "7eebedfc",
   "metadata": {},
   "outputs": [],
   "source": [
    "l1[1]=375"
   ]
  },
  {
   "cell_type": "code",
   "execution_count": 44,
   "id": "0da91267",
   "metadata": {},
   "outputs": [
    {
     "data": {
      "text/plain": [
       "[12, 375, 'qwerty', 89, 100, [1, 2, 3, 4], 1, 2, 3]"
      ]
     },
     "execution_count": 44,
     "metadata": {},
     "output_type": "execute_result"
    }
   ],
   "source": [
    "l1\n"
   ]
  },
  {
   "cell_type": "code",
   "execution_count": 47,
   "id": "2d5e27ef",
   "metadata": {},
   "outputs": [
    {
     "data": {
      "text/plain": [
       "89"
      ]
     },
     "execution_count": 47,
     "metadata": {},
     "output_type": "execute_result"
    }
   ],
   "source": [
    "l1.pop(3)"
   ]
  },
  {
   "cell_type": "code",
   "execution_count": 46,
   "id": "ec7e97b5",
   "metadata": {},
   "outputs": [
    {
     "data": {
      "text/plain": [
       "[12, 375, 'qwerty', 89, 100, [1, 2, 3, 4], 1, 2]"
      ]
     },
     "execution_count": 46,
     "metadata": {},
     "output_type": "execute_result"
    }
   ],
   "source": [
    "l1"
   ]
  },
  {
   "cell_type": "code",
   "execution_count": 48,
   "id": "db62c6f5",
   "metadata": {},
   "outputs": [
    {
     "data": {
      "text/plain": [
       "'qwerty'"
      ]
     },
     "execution_count": 48,
     "metadata": {},
     "output_type": "execute_result"
    }
   ],
   "source": [
    "l1.pop(2)"
   ]
  },
  {
   "cell_type": "code",
   "execution_count": 49,
   "id": "e4d8ee44",
   "metadata": {},
   "outputs": [
    {
     "data": {
      "text/plain": [
       "[12, 375, 100, [1, 2, 3, 4], 1, 2]"
      ]
     },
     "execution_count": 49,
     "metadata": {},
     "output_type": "execute_result"
    }
   ],
   "source": [
    "l1"
   ]
  },
  {
   "cell_type": "code",
   "execution_count": 51,
   "id": "2de28abe",
   "metadata": {},
   "outputs": [
    {
     "data": {
      "text/plain": [
       "[1, 2, 3, 4]"
      ]
     },
     "execution_count": 51,
     "metadata": {},
     "output_type": "execute_result"
    }
   ],
   "source": [
    "l1.pop(3)"
   ]
  },
  {
   "cell_type": "code",
   "execution_count": 52,
   "id": "cd059fe2",
   "metadata": {},
   "outputs": [],
   "source": [
    "l1.sort()"
   ]
  },
  {
   "cell_type": "code",
   "execution_count": 53,
   "id": "33aa611b",
   "metadata": {},
   "outputs": [
    {
     "data": {
      "text/plain": [
       "[1, 2, 12, 100, 375]"
      ]
     },
     "execution_count": 53,
     "metadata": {},
     "output_type": "execute_result"
    }
   ],
   "source": [
    "l1"
   ]
  },
  {
   "cell_type": "code",
   "execution_count": 54,
   "id": "e0252c27",
   "metadata": {},
   "outputs": [],
   "source": [
    "t=(12,13,12.2)"
   ]
  },
  {
   "cell_type": "code",
   "execution_count": null,
   "id": "3f47a468",
   "metadata": {},
   "outputs": [],
   "source": []
  },
  {
   "cell_type": "code",
   "execution_count": 56,
   "id": "b46ea625",
   "metadata": {},
   "outputs": [],
   "source": [
    "d={'name':'Ishan',\"id\":305,'grade':'O'}"
   ]
  },
  {
   "cell_type": "code",
   "execution_count": 57,
   "id": "2dfb31e7",
   "metadata": {},
   "outputs": [
    {
     "data": {
      "text/plain": [
       "{'name': 'Ishan', 'id': 305, 'grade': 'O'}"
      ]
     },
     "execution_count": 57,
     "metadata": {},
     "output_type": "execute_result"
    }
   ],
   "source": [
    "d"
   ]
  },
  {
   "cell_type": "code",
   "execution_count": 58,
   "id": "f08dd2f0",
   "metadata": {},
   "outputs": [
    {
     "data": {
      "text/plain": [
       "dict"
      ]
     },
     "execution_count": 58,
     "metadata": {},
     "output_type": "execute_result"
    }
   ],
   "source": [
    "type(d)"
   ]
  },
  {
   "cell_type": "code",
   "execution_count": 59,
   "id": "c082c508",
   "metadata": {},
   "outputs": [
    {
     "data": {
      "text/plain": [
       "'Ishan'"
      ]
     },
     "execution_count": 59,
     "metadata": {},
     "output_type": "execute_result"
    }
   ],
   "source": [
    "d['name']"
   ]
  },
  {
   "cell_type": "code",
   "execution_count": 60,
   "id": "bae28cbb",
   "metadata": {},
   "outputs": [
    {
     "data": {
      "text/plain": [
       "dict_keys(['name', 'id', 'grade'])"
      ]
     },
     "execution_count": 60,
     "metadata": {},
     "output_type": "execute_result"
    }
   ],
   "source": [
    "d.keys()\n"
   ]
  },
  {
   "cell_type": "code",
   "execution_count": 61,
   "id": "6e968ae1",
   "metadata": {},
   "outputs": [],
   "source": [
    "#positive or not"
   ]
  },
  {
   "cell_type": "code",
   "execution_count": 73,
   "id": "149ac46f",
   "metadata": {},
   "outputs": [
    {
     "name": "stdout",
     "output_type": "stream",
     "text": [
      "no\n"
     ]
    }
   ],
   "source": [
    "x=-5\n",
    "if(x>0):\n",
    "    print('yes')\n",
    "elif(x<0):\n",
    "    print('no')\n",
    "else:\n",
    "    print('undefined')\n"
   ]
  },
  {
   "cell_type": "code",
   "execution_count": 83,
   "id": "71255f66",
   "metadata": {},
   "outputs": [],
   "source": [
    "#wap odd or even"
   ]
  },
  {
   "cell_type": "code",
   "execution_count": 71,
   "id": "cf7cdf9d",
   "metadata": {
    "scrolled": true
   },
   "outputs": [
    {
     "name": "stdout",
     "output_type": "stream",
     "text": [
      "yes\n"
     ]
    }
   ],
   "source": [
    "x=0\n",
    "if(x%2==0):\n",
    "    print('yes')\n",
    "else:\n",
    "    print('no')\n"
   ]
  },
  {
   "cell_type": "code",
   "execution_count": 82,
   "id": "b6aa0dd0",
   "metadata": {},
   "outputs": [
    {
     "name": "stdout",
     "output_type": "stream",
     "text": [
      "dist\n"
     ]
    }
   ],
   "source": [
    "m=91\n",
    "if(m>100):\n",
    "    print('invalid')\n",
    "elif(m>70):\n",
    "    print('dist')\n",
    "elif(m>60 and m<=70):\n",
    "    print('1st')\n",
    "elif(m>50 and m<=60):\n",
    "    print('2nd')\n",
    "elif(m>40 and m<=50):\n",
    "    print('3rd')\n",
    "else:\n",
    "    print('fail')"
   ]
  },
  {
   "cell_type": "code",
   "execution_count": 84,
   "id": "7326a16c",
   "metadata": {},
   "outputs": [],
   "source": [
    "#+ even odd\n",
    "#else negative"
   ]
  },
  {
   "cell_type": "code",
   "execution_count": 94,
   "id": "add7b8df",
   "metadata": {},
   "outputs": [
    {
     "name": "stdout",
     "output_type": "stream",
     "text": [
      "c\n"
     ]
    }
   ],
   "source": [
    "a=5\n",
    "b=8\n",
    "c=9\n",
    "if(a>b):\n",
    "    if(a>c):\n",
    "        print('a')\n",
    "else:\n",
    "    if(b>c):\n",
    "        print('b')\n",
    "    else:\n",
    "        print('c')"
   ]
  },
  {
   "cell_type": "code",
   "execution_count": 95,
   "id": "907d11de",
   "metadata": {},
   "outputs": [
    {
     "name": "stdout",
     "output_type": "stream",
     "text": [
      "55\n"
     ]
    }
   ],
   "source": [
    "sum=0;\n",
    "count=10\n",
    "while(count>0):\n",
    "    sum=sum+count\n",
    "    count=count-1\n",
    "print(sum)"
   ]
  },
  {
   "cell_type": "code",
   "execution_count": 97,
   "id": "a07c535e",
   "metadata": {},
   "outputs": [
    {
     "data": {
      "text/plain": [
       "55"
      ]
     },
     "execution_count": 97,
     "metadata": {},
     "output_type": "execute_result"
    }
   ],
   "source": [
    "1+2+3+4+5+6+7+8+9+10\n"
   ]
  },
  {
   "cell_type": "code",
   "execution_count": 98,
   "id": "ae353fe8",
   "metadata": {},
   "outputs": [],
   "source": [
    "#odd no between 1 to 20"
   ]
  },
  {
   "cell_type": "code",
   "execution_count": 99,
   "id": "5b45ad3e",
   "metadata": {},
   "outputs": [
    {
     "name": "stdout",
     "output_type": "stream",
     "text": [
      "100\n"
     ]
    }
   ],
   "source": [
    "i=19\n",
    "sum=0\n",
    "while(i>0):\n",
    "    sum+=i\n",
    "    i=i-2\n",
    "print(sum)"
   ]
  },
  {
   "cell_type": "code",
   "execution_count": 100,
   "id": "27fd8430",
   "metadata": {},
   "outputs": [],
   "source": [
    "#wap day on screen"
   ]
  },
  {
   "cell_type": "code",
   "execution_count": 101,
   "id": "dc26e7f2",
   "metadata": {},
   "outputs": [
    {
     "name": "stdout",
     "output_type": "stream",
     "text": [
      "monday\n",
      "tuesday\n",
      "wednesday\n",
      "thursday\n",
      "friday\n",
      "saturday\n",
      "sunday\n"
     ]
    }
   ],
   "source": [
    "for i in 'monday','tuesday','wednesday','thursday','friday','saturday','sunday':\n",
    "    print(i)"
   ]
  },
  {
   "cell_type": "code",
   "execution_count": 105,
   "id": "65a109ea",
   "metadata": {},
   "outputs": [
    {
     "name": "stdout",
     "output_type": "stream",
     "text": [
      "55\n"
     ]
    }
   ],
   "source": [
    "sum=0\n",
    "for i in range(1,11):\n",
    "    sum+=i\n",
    "print(sum)"
   ]
  },
  {
   "cell_type": "code",
   "execution_count": null,
   "id": "fe55ea6e",
   "metadata": {},
   "outputs": [],
   "source": [
    "#function "
   ]
  },
  {
   "cell_type": "code",
   "execution_count": 106,
   "id": "25fd6773",
   "metadata": {},
   "outputs": [
    {
     "name": "stdout",
     "output_type": "stream",
     "text": [
      "9\n"
     ]
    }
   ],
   "source": [
    "def add(a,b):\n",
    "    print(a+b)\n",
    "\n",
    "add(5,4)"
   ]
  },
  {
   "cell_type": "code",
   "execution_count": 107,
   "id": "3a173c44",
   "metadata": {},
   "outputs": [
    {
     "name": "stdout",
     "output_type": "stream",
     "text": [
      "22\n"
     ]
    }
   ],
   "source": [
    "add(9,13)"
   ]
  },
  {
   "cell_type": "code",
   "execution_count": 108,
   "id": "dfbee4a4",
   "metadata": {},
   "outputs": [],
   "source": [
    "def arith(a,b,c):\n",
    "    if(c=='+'):\n",
    "        print(a+b)\n",
    "    elif(c=='-'):\n",
    "        print(a-b)\n",
    "    elif(c=='*'):\n",
    "        print(a*b)\n",
    "    else:\n",
    "        print(a/b)"
   ]
  },
  {
   "cell_type": "code",
   "execution_count": 111,
   "id": "59783433",
   "metadata": {},
   "outputs": [
    {
     "name": "stdout",
     "output_type": "stream",
     "text": [
      "enter no 1:2\n",
      "enter no 2:3\n",
      "enter operation+\n",
      "5\n"
     ]
    }
   ],
   "source": [
    "n1=int(input(\"enter no 1:\"))\n",
    "n2=int(input(\"enter no 2:\"))\n",
    "n3=input(\"enter operation\")\n",
    "arith(n1,n2,n3)"
   ]
  },
  {
   "cell_type": "code",
   "execution_count": 112,
   "id": "10cc25eb",
   "metadata": {},
   "outputs": [],
   "source": [
    "#square of no"
   ]
  },
  {
   "cell_type": "code",
   "execution_count": 113,
   "id": "bcccad6f",
   "metadata": {},
   "outputs": [
    {
     "name": "stdout",
     "output_type": "stream",
     "text": [
      "625\n"
     ]
    }
   ],
   "source": [
    "def sq(n):\n",
    "    print(n**2)\n",
    "sq(25)"
   ]
  },
  {
   "cell_type": "code",
   "execution_count": 114,
   "id": "480ce3f0",
   "metadata": {},
   "outputs": [],
   "source": [
    "#find addition of 1-10"
   ]
  },
  {
   "cell_type": "code",
   "execution_count": 116,
   "id": "28a5a42a",
   "metadata": {},
   "outputs": [],
   "source": [
    "def add():\n",
    "    sum=0\n",
    "    for i in range(1,11):\n",
    "        sum=sum+i\n",
    "    print(sum)"
   ]
  },
  {
   "cell_type": "code",
   "execution_count": 117,
   "id": "2a7ed6a2",
   "metadata": {},
   "outputs": [
    {
     "name": "stdout",
     "output_type": "stream",
     "text": [
      "55\n"
     ]
    }
   ],
   "source": [
    "add()"
   ]
  },
  {
   "cell_type": "code",
   "execution_count": 152,
   "id": "c1946ff5",
   "metadata": {},
   "outputs": [],
   "source": [
    "#wap to calculate add and avg of list\n",
    "def fun():\n",
    "    l=[]\n",
    "    for i in range(1,11):\n",
    "        n=int(input(\"enter no\"))\n",
    "        l.append(n)\n",
    "    sum=0\n",
    "    for i in l:\n",
    "        sum+=i\n",
    "    return sum,sum/len(l)"
   ]
  },
  {
   "cell_type": "code",
   "execution_count": null,
   "id": "3cce37f2",
   "metadata": {},
   "outputs": [],
   "source": []
  },
  {
   "cell_type": "code",
   "execution_count": 135,
   "id": "cb691ecf",
   "metadata": {},
   "outputs": [
    {
     "data": {
      "text/plain": [
       "[1, 2, 3]"
      ]
     },
     "execution_count": 135,
     "metadata": {},
     "output_type": "execute_result"
    }
   ],
   "source": [
    "list(map(int,'1 2 3'.split()))"
   ]
  },
  {
   "cell_type": "code",
   "execution_count": 155,
   "id": "41ff5790",
   "metadata": {},
   "outputs": [],
   "source": [
    "def fun():\n",
    "    n=input('input 10 elements')\n",
    "    n=list(map(int,n.split()))\n",
    "    sum=0\n",
    "    for i in n:\n",
    "        sum+=i\n",
    "    print(sum)\n",
    "    print(\"avg\",sum/10)"
   ]
  },
  {
   "cell_type": "code",
   "execution_count": 156,
   "id": "b59445f8",
   "metadata": {},
   "outputs": [
    {
     "name": "stdout",
     "output_type": "stream",
     "text": [
      "input 10 elements2 2 2 2 2 2 2 2 2 2\n",
      "20\n",
      "avg 2.0\n"
     ]
    }
   ],
   "source": [
    "fun()"
   ]
  },
  {
   "cell_type": "markdown",
   "id": "afddbde6",
   "metadata": {},
   "source": [
    "#factorial using recursion"
   ]
  },
  {
   "cell_type": "code",
   "execution_count": 157,
   "id": "ee50ddc6",
   "metadata": {},
   "outputs": [],
   "source": [
    "def fact(n):\n",
    "    if(n==1 or n==0):\n",
    "        return 1\n",
    "    return n*fact(n-1)"
   ]
  },
  {
   "cell_type": "code",
   "execution_count": 162,
   "id": "ef94aa16",
   "metadata": {},
   "outputs": [
    {
     "data": {
      "text/plain": [
       "720"
      ]
     },
     "execution_count": 162,
     "metadata": {},
     "output_type": "execute_result"
    }
   ],
   "source": [
    "fact(6)"
   ]
  },
  {
   "cell_type": "code",
   "execution_count": 163,
   "id": "c19ddf14",
   "metadata": {},
   "outputs": [],
   "source": [
    "#default parameter"
   ]
  },
  {
   "cell_type": "code",
   "execution_count": 164,
   "id": "b6f63a57",
   "metadata": {},
   "outputs": [
    {
     "name": "stdout",
     "output_type": "stream",
     "text": [
      "\n"
     ]
    }
   ],
   "source": [
    "def mul(x=5,y=4,z=3):\n",
    "    return x*y*z\n",
    "\n",
    "print()"
   ]
  },
  {
   "cell_type": "code",
   "execution_count": 165,
   "id": "3548807a",
   "metadata": {},
   "outputs": [],
   "source": [
    "import time"
   ]
  },
  {
   "cell_type": "code",
   "execution_count": 166,
   "id": "a39cd35a",
   "metadata": {},
   "outputs": [
    {
     "data": {
      "text/plain": [
       "1695979673.5178492"
      ]
     },
     "execution_count": 166,
     "metadata": {},
     "output_type": "execute_result"
    }
   ],
   "source": [
    "time.time()"
   ]
  },
  {
   "cell_type": "code",
   "execution_count": 167,
   "id": "bcd14601",
   "metadata": {},
   "outputs": [
    {
     "data": {
      "text/plain": [
       "time.struct_time(tm_year=2023, tm_mon=9, tm_mday=29, tm_hour=14, tm_min=59, tm_sec=49, tm_wday=4, tm_yday=272, tm_isdst=0)"
      ]
     },
     "execution_count": 167,
     "metadata": {},
     "output_type": "execute_result"
    }
   ],
   "source": [
    "time.localtime()"
   ]
  },
  {
   "cell_type": "code",
   "execution_count": 169,
   "id": "33c2e80d",
   "metadata": {},
   "outputs": [
    {
     "data": {
      "text/plain": [
       "'Fri Sep 29 15:03:25 2023'"
      ]
     },
     "execution_count": 169,
     "metadata": {},
     "output_type": "execute_result"
    }
   ],
   "source": [
    "time.asctime()"
   ]
  },
  {
   "cell_type": "code",
   "execution_count": 170,
   "id": "ce9ba2fa",
   "metadata": {},
   "outputs": [],
   "source": [
    "import time as t"
   ]
  },
  {
   "cell_type": "code",
   "execution_count": 171,
   "id": "21d67106",
   "metadata": {},
   "outputs": [],
   "source": [
    "import numpy as np"
   ]
  },
  {
   "cell_type": "code",
   "execution_count": 172,
   "id": "0130f2f5",
   "metadata": {},
   "outputs": [],
   "source": [
    "arr=np.array([[1,2,3,4],[5,6,7,8],[9,10,11,12]])"
   ]
  },
  {
   "cell_type": "code",
   "execution_count": 173,
   "id": "c3f888aa",
   "metadata": {},
   "outputs": [
    {
     "data": {
      "text/plain": [
       "array([[ 1,  2,  3,  4],\n",
       "       [ 5,  6,  7,  8],\n",
       "       [ 9, 10, 11, 12]])"
      ]
     },
     "execution_count": 173,
     "metadata": {},
     "output_type": "execute_result"
    }
   ],
   "source": [
    "arr"
   ]
  },
  {
   "cell_type": "code",
   "execution_count": 174,
   "id": "d5951c86",
   "metadata": {},
   "outputs": [
    {
     "data": {
      "text/plain": [
       "2"
      ]
     },
     "execution_count": 174,
     "metadata": {},
     "output_type": "execute_result"
    }
   ],
   "source": [
    "arr.ndim"
   ]
  },
  {
   "cell_type": "code",
   "execution_count": 175,
   "id": "fa2560ac",
   "metadata": {},
   "outputs": [
    {
     "data": {
      "text/plain": [
       "(3, 4)"
      ]
     },
     "execution_count": 175,
     "metadata": {},
     "output_type": "execute_result"
    }
   ],
   "source": [
    "arr.shape"
   ]
  },
  {
   "cell_type": "code",
   "execution_count": null,
   "id": "961b5a82",
   "metadata": {},
   "outputs": [],
   "source": [
    "what can i say except your welcome for the stars the sun the sky"
   ]
  }
 ],
 "metadata": {
  "kernelspec": {
   "display_name": "Python 3 (ipykernel)",
   "language": "python",
   "name": "python3"
  },
  "language_info": {
   "codemirror_mode": {
    "name": "ipython",
    "version": 3
   },
   "file_extension": ".py",
   "mimetype": "text/x-python",
   "name": "python",
   "nbconvert_exporter": "python",
   "pygments_lexer": "ipython3",
   "version": "3.9.7"
  }
 },
 "nbformat": 4,
 "nbformat_minor": 5
}
